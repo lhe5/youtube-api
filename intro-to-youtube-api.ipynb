{
 "cells": [
  {
   "cell_type": "markdown",
   "metadata": {},
   "source": [
    "# YouTube Data API"
   ]
  },
  {
   "cell_type": "markdown",
   "metadata": {},
   "source": [
    "#### The YouTube Data API harbors metadata about videos on the platform such as video duration, title, channel information, in addition to video metrics such as likes, dislikes, and comment count."
   ]
  },
  {
   "cell_type": "code",
   "execution_count": 1,
   "metadata": {},
   "outputs": [],
   "source": [
    "import json\n",
    "import requests\n",
    "import pandas as pd"
   ]
  },
  {
   "cell_type": "code",
   "execution_count": 9,
   "metadata": {},
   "outputs": [],
   "source": [
    "api_key = json.loads(open(\"../API/YouTube/api_key.txt\").read())['api_key']"
   ]
  },
  {
   "cell_type": "code",
   "execution_count": 12,
   "metadata": {},
   "outputs": [],
   "source": [
    "def get_video_metadata(video_id):\n",
    "\n",
    "    endpoint = '''https://www.googleapis.com/youtube/v3/videos?id={}&key={}&part=snippet,contentDetails,statistics,status'''\n",
    "    url = endpoint.format(video_id, api_key)\n",
    "\n",
    "    response = json.loads(requests.get(url).text)\n",
    "    \n",
    "    return response"
   ]
  },
  {
   "cell_type": "code",
   "execution_count": 20,
   "metadata": {},
   "outputs": [],
   "source": [
    "yt_metadata = get_video_metadata('ztW7v-1FKxs')"
   ]
  },
  {
   "cell_type": "code",
   "execution_count": 21,
   "metadata": {},
   "outputs": [
    {
     "data": {
      "text/plain": [
       "{'kind': 'youtube#videoListResponse',\n",
       " 'etag': '\"XpPGQXPnxQJhLgs6enD_n8JR4Qk/y6eIZ5x1W13UlVx3pvz56z5NisA\"',\n",
       " 'pageInfo': {'totalResults': 1, 'resultsPerPage': 1},\n",
       " 'items': [{'kind': 'youtube#video',\n",
       "   'etag': '\"XpPGQXPnxQJhLgs6enD_n8JR4Qk/cgPhhPV5y-8tdErWjrEzAeQvVKg\"',\n",
       "   'id': 'ztW7v-1FKxs',\n",
       "   'snippet': {'publishedAt': '2019-02-27T19:31:50.000Z',\n",
       "    'channelId': 'UCnoJo5BdCdNh7lGMytTZnzQ',\n",
       "    'title': 'ANTICIPATED SPRING BOOK RELEASES',\n",
       "    'description': \"Let me know what spring release you're looking forward to the most!\\n\\nThis video contains Paid Promotion by Epic Reads. Thanks Epic Reads!\\n\\nEnter here https://go.epicreads.com/oppositeofalways-sweeps/ for a chance to win a copy of Opposite of Always and a set of three custom pennants. Sweepstakes sponsored by HarperCollins Publishers. US residents only. Ends 3/1/2019. Official Rules: https://d15fwz9jg1iq5f.cloudfront.net/wp-content/uploads/sites/2/2019/02/12155924/OppositeofAlwaysSweeps-OfficialRules.pdf #sponsored\\n\\nTHANKS FOR WATCHING!!\\n\\ns o c i a l  m e d i a s\\nTwitter: @ashleynuckles\\n\\nInstagram: @ashleynuckles\\n\\nSnapchat: @adashofash12\\n\\nGoodreads: @ashleynuckles or http://www.goodreads.com/ashleynuckles\\n\\nf o r  b u s i n e s s  i n q u i r i e s \\nadashofash12@gmail.com\\n\\nm u s i c  f r o m \\nYouTube Creator Library.\",\n",
       "    'thumbnails': {'default': {'url': 'https://i.ytimg.com/vi/ztW7v-1FKxs/default.jpg',\n",
       "      'width': 120,\n",
       "      'height': 90},\n",
       "     'medium': {'url': 'https://i.ytimg.com/vi/ztW7v-1FKxs/mqdefault.jpg',\n",
       "      'width': 320,\n",
       "      'height': 180},\n",
       "     'high': {'url': 'https://i.ytimg.com/vi/ztW7v-1FKxs/hqdefault.jpg',\n",
       "      'width': 480,\n",
       "      'height': 360},\n",
       "     'standard': {'url': 'https://i.ytimg.com/vi/ztW7v-1FKxs/sddefault.jpg',\n",
       "      'width': 640,\n",
       "      'height': 480},\n",
       "     'maxres': {'url': 'https://i.ytimg.com/vi/ztW7v-1FKxs/maxresdefault.jpg',\n",
       "      'width': 1280,\n",
       "      'height': 720}},\n",
       "    'channelTitle': 'a dash of ash',\n",
       "    'tags': ['book',\n",
       "     'books',\n",
       "     'bookish',\n",
       "     'booktube',\n",
       "     'booktuber',\n",
       "     'a dash of ash',\n",
       "     'read',\n",
       "     'reading',\n",
       "     'reads',\n",
       "     'reader',\n",
       "     'ya',\n",
       "     'young',\n",
       "     'adult',\n",
       "     'anticipated spring releases',\n",
       "     'book releases',\n",
       "     'spring books',\n",
       "     'spring 2019 book releases',\n",
       "     'ya book releases',\n",
       "     'ya spring books'],\n",
       "    'categoryId': '22',\n",
       "    'liveBroadcastContent': 'none',\n",
       "    'localized': {'title': 'ANTICIPATED SPRING BOOK RELEASES',\n",
       "     'description': \"Let me know what spring release you're looking forward to the most!\\n\\nThis video contains Paid Promotion by Epic Reads. Thanks Epic Reads!\\n\\nEnter here https://go.epicreads.com/oppositeofalways-sweeps/ for a chance to win a copy of Opposite of Always and a set of three custom pennants. Sweepstakes sponsored by HarperCollins Publishers. US residents only. Ends 3/1/2019. Official Rules: https://d15fwz9jg1iq5f.cloudfront.net/wp-content/uploads/sites/2/2019/02/12155924/OppositeofAlwaysSweeps-OfficialRules.pdf #sponsored\\n\\nTHANKS FOR WATCHING!!\\n\\ns o c i a l  m e d i a s\\nTwitter: @ashleynuckles\\n\\nInstagram: @ashleynuckles\\n\\nSnapchat: @adashofash12\\n\\nGoodreads: @ashleynuckles or http://www.goodreads.com/ashleynuckles\\n\\nf o r  b u s i n e s s  i n q u i r i e s \\nadashofash12@gmail.com\\n\\nm u s i c  f r o m \\nYouTube Creator Library.\"},\n",
       "    'defaultAudioLanguage': 'en'},\n",
       "   'contentDetails': {'duration': 'PT16M56S',\n",
       "    'dimension': '2d',\n",
       "    'definition': 'hd',\n",
       "    'caption': 'false',\n",
       "    'licensedContent': True,\n",
       "    'projection': 'rectangular'},\n",
       "   'status': {'uploadStatus': 'processed',\n",
       "    'privacyStatus': 'public',\n",
       "    'license': 'youtube',\n",
       "    'embeddable': True,\n",
       "    'publicStatsViewable': False},\n",
       "   'statistics': {'viewCount': '1798',\n",
       "    'likeCount': '218',\n",
       "    'dislikeCount': '1',\n",
       "    'favoriteCount': '0',\n",
       "    'commentCount': '22'}}]}"
      ]
     },
     "execution_count": 21,
     "metadata": {},
     "output_type": "execute_result"
    }
   ],
   "source": [
    "yt_metadata"
   ]
  },
  {
   "cell_type": "markdown",
   "metadata": {},
   "source": [
    "## Data we're retrieving for every video\n",
    "### 1. date of publication 2. subscribers???? 3. category- 24 = Entertainment & 26 = Howto & Style 4. if it has the sponsored tag"
   ]
  },
  {
   "cell_type": "code",
   "execution_count": 42,
   "metadata": {},
   "outputs": [],
   "source": [
    "#snippet_key should be string (for example, 'publishedAt')\n",
    "def access_snippet_dict (snippet_key):\n",
    "    \n",
    "    #goes into dictionary, into itmes key. value is a list. access the first element\n",
    "    #of the list, which is a dictionary. access 'snippet' key,value is dictionary\n",
    "    snippet_value = yt_metadata['items'][0]['snippet'][snippet_key]\n",
    "    \n",
    "    return snippet_value"
   ]
  },
  {
   "cell_type": "code",
   "execution_count": 147,
   "metadata": {},
   "outputs": [],
   "source": [
    "#1.publicationAt\n",
    "publicationAt = access_snippet_dict('publishedAt')\n",
    "\n",
    "#2. subscribers?? maybe through analytics API\n",
    "\n",
    "#3. categoryId\n",
    "categoryId = access_snippet_dict('categoryId')\n",
    "\n",
    "#4. tags\n",
    "tags = access_snippet_dict('tags')\n",
    "\n",
    "#5. description (contains #sponsored)\n",
    "description = access_snippet_dict('description')"
   ]
  },
  {
   "cell_type": "code",
   "execution_count": 50,
   "metadata": {},
   "outputs": [
    {
     "data": {
      "text/plain": [
       "'2019-02-27T19:31:50.000Z'"
      ]
     },
     "execution_count": 50,
     "metadata": {},
     "output_type": "execute_result"
    }
   ],
   "source": [
    "publicationAt"
   ]
  },
  {
   "cell_type": "code",
   "execution_count": 43,
   "metadata": {},
   "outputs": [
    {
     "data": {
      "text/plain": [
       "'22'"
      ]
     },
     "execution_count": 43,
     "metadata": {},
     "output_type": "execute_result"
    }
   ],
   "source": [
    "categoryId"
   ]
  },
  {
   "cell_type": "code",
   "execution_count": 47,
   "metadata": {},
   "outputs": [
    {
     "data": {
      "text/plain": [
       "['book',\n",
       " 'books',\n",
       " 'bookish',\n",
       " 'booktube',\n",
       " 'booktuber',\n",
       " 'a dash of ash',\n",
       " 'read',\n",
       " 'reading',\n",
       " 'reads',\n",
       " 'reader',\n",
       " 'ya',\n",
       " 'young',\n",
       " 'adult',\n",
       " 'anticipated spring releases',\n",
       " 'book releases',\n",
       " 'spring books',\n",
       " 'spring 2019 book releases',\n",
       " 'ya book releases',\n",
       " 'ya spring books']"
      ]
     },
     "execution_count": 47,
     "metadata": {},
     "output_type": "execute_result"
    }
   ],
   "source": [
    "tags"
   ]
  },
  {
   "cell_type": "code",
   "execution_count": 148,
   "metadata": {},
   "outputs": [
    {
     "data": {
      "text/plain": [
       "\"Let me know what spring release you're looking forward to the most!\\n\\nThis video contains Paid Promotion by Epic Reads. Thanks Epic Reads!\\n\\nEnter here https://go.epicreads.com/oppositeofalways-sweeps/ for a chance to win a copy of Opposite of Always and a set of three custom pennants. Sweepstakes sponsored by HarperCollins Publishers. US residents only. Ends 3/1/2019. Official Rules: https://d15fwz9jg1iq5f.cloudfront.net/wp-content/uploads/sites/2/2019/02/12155924/OppositeofAlwaysSweeps-OfficialRules.pdf #sponsored\\n\\nTHANKS FOR WATCHING!!\\n\\ns o c i a l  m e d i a s\\nTwitter: @ashleynuckles\\n\\nInstagram: @ashleynuckles\\n\\nSnapchat: @adashofash12\\n\\nGoodreads: @ashleynuckles or http://www.goodreads.com/ashleynuckles\\n\\nf o r  b u s i n e s s  i n q u i r i e s \\nadashofash12@gmail.com\\n\\nm u s i c  f r o m \\nYouTube Creator Library.\""
      ]
     },
     "execution_count": 148,
     "metadata": {},
     "output_type": "execute_result"
    }
   ],
   "source": [
    "description"
   ]
  },
  {
   "cell_type": "code",
   "execution_count": 213,
   "metadata": {},
   "outputs": [],
   "source": [
    "def is_sponsored_or_ad(description):\n",
    "    a = ['#ad', '#sponsored']\n",
    "    return any(x in description for x in a)"
   ]
  },
  {
   "cell_type": "code",
   "execution_count": 214,
   "metadata": {},
   "outputs": [
    {
     "data": {
      "text/plain": [
       "True"
      ]
     },
     "execution_count": 214,
     "metadata": {},
     "output_type": "execute_result"
    }
   ],
   "source": [
    "is_sponsored_or_ad(description)"
   ]
  },
  {
   "cell_type": "code",
   "execution_count": 203,
   "metadata": {},
   "outputs": [],
   "source": [
    "def is_beauty_or_entertaiment(categoryId):\n",
    "    return categoryId in ['24','26']"
   ]
  },
  {
   "cell_type": "code",
   "execution_count": 230,
   "metadata": {},
   "outputs": [
    {
     "data": {
      "text/plain": [
       "False"
      ]
     },
     "execution_count": 230,
     "metadata": {},
     "output_type": "execute_result"
    }
   ],
   "source": [
    "is_beauty_or_entertaiment(categoryId)"
   ]
  },
  {
   "cell_type": "code",
   "execution_count": null,
   "metadata": {},
   "outputs": [],
   "source": []
  }
 ],
 "metadata": {
  "kernelspec": {
   "display_name": "Python 3",
   "language": "python",
   "name": "python3"
  },
  "language_info": {
   "codemirror_mode": {
    "name": "ipython",
    "version": 3
   },
   "file_extension": ".py",
   "mimetype": "text/x-python",
   "name": "python",
   "nbconvert_exporter": "python",
   "pygments_lexer": "ipython3",
   "version": "3.7.1"
  }
 },
 "nbformat": 4,
 "nbformat_minor": 2
}
