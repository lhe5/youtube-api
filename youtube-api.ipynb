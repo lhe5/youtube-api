{
 "cells": [
  {
   "cell_type": "markdown",
   "metadata": {},
   "source": [
    "## **YouTube Data API**"
   ]
  },
  {
   "cell_type": "markdown",
   "metadata": {},
   "source": [
    "##### The YouTube Data API harbors metadata about videos on the platform such as video duration, title, channel information, in addition to video metrics such as likes, dislikes, and comment count."
   ]
  },
  {
   "cell_type": "code",
   "execution_count": 1,
   "metadata": {},
   "outputs": [],
   "source": [
    "import json\n",
    "import requests\n",
    "import pandas as pd"
   ]
  },
  {
   "cell_type": "code",
   "execution_count": 36,
   "metadata": {},
   "outputs": [],
   "source": [
    "api_key = json.loads(open(\"../api-keys/google/google.txt\").read())['api_key']"
   ]
  },
  {
   "cell_type": "code",
   "execution_count": 38,
   "metadata": {},
   "outputs": [],
   "source": [
    "def get_video_metadata(video_id):\n",
    "\n",
    "    endpoint = '''https://www.googleapis.com/youtube/v3/videos?id={}&key={}\n",
    "        &part=snippet,contentDetails,statistics,status'''\n",
    "    url = endpoint.format(video_id, api_key)\n",
    "\n",
    "    response = json.loads(requests.get(url).text)\n",
    "    \n",
    "    return response"
   ]
  },
  {
   "cell_type": "code",
   "execution_count": 41,
   "metadata": {},
   "outputs": [
    {
     "data": {
      "text/plain": [
       "{'etag': '\"XpPGQXPnxQJhLgs6enD_n8JR4Qk/wZ1c__-2XI8r5kNLB3gsWNu3Ifw\"',\n",
       " 'items': [{'contentDetails': {'caption': 'false',\n",
       "    'definition': 'hd',\n",
       "    'dimension': '2d',\n",
       "    'duration': 'PT1M1S',\n",
       "    'licensedContent': True,\n",
       "    'projection': 'rectangular'},\n",
       "   'etag': '\"XpPGQXPnxQJhLgs6enD_n8JR4Qk/5i1hJ9e43GuHCODNw0zzwrf9e5o\"',\n",
       "   'id': 'F_ZFAMtFs1k',\n",
       "   'kind': 'youtube#video',\n",
       "   'snippet': {'categoryId': '23',\n",
       "    'channelId': 'UCpIafFPGutTAKOBHMtGen7g',\n",
       "    'channelTitle': 'Gus Johnson',\n",
       "    'defaultAudioLanguage': 'en',\n",
       "    'description': \"cmon now dog\\n↓look down here for lots of cool stuff↓\\n- LIVE SHOW TICKETS: https://bit.ly/2SrbRLH\\n- NEW MERCH: https://bit.ly/2GbM43E\\n- SUBSCRIBE TO THE PODCAST: https://bit.ly/2wA7zDR\\n\\nGus Johnson\\nPO BOX 360616\\nLos Angeles, CA 90036\\n\\n↓FOLLOW ME HERE PLEASE↓\\n- Twitter: https://twitter.com/Gusbuckets\\n- Instagram: instagram.com/johnsongus\\n- Facebook: https://www.facebook.com/gustoonz\\n- Reddit: https://www.reddit.com/r/gusjohnson/\\n- Snapchat: motherxteresa\\n- Patreon: http://bit.ly/1TVIYyA\\n- PayPal: gustoonz@gmail.com\\n\\nthis is how midwesterners call their dogs.\\n\\nWelcome to the Gus Johnson channel, where the most average content comes to fizzle out.\\n\\nThanks for watching and sharing! Don't stab people. I'll see you later.\",\n",
       "    'liveBroadcastContent': 'none',\n",
       "    'localized': {'description': \"cmon now dog\\n↓look down here for lots of cool stuff↓\\n- LIVE SHOW TICKETS: https://bit.ly/2SrbRLH\\n- NEW MERCH: https://bit.ly/2GbM43E\\n- SUBSCRIBE TO THE PODCAST: https://bit.ly/2wA7zDR\\n\\nGus Johnson\\nPO BOX 360616\\nLos Angeles, CA 90036\\n\\n↓FOLLOW ME HERE PLEASE↓\\n- Twitter: https://twitter.com/Gusbuckets\\n- Instagram: instagram.com/johnsongus\\n- Facebook: https://www.facebook.com/gustoonz\\n- Reddit: https://www.reddit.com/r/gusjohnson/\\n- Snapchat: motherxteresa\\n- Patreon: http://bit.ly/1TVIYyA\\n- PayPal: gustoonz@gmail.com\\n\\nthis is how midwesterners call their dogs.\\n\\nWelcome to the Gus Johnson channel, where the most average content comes to fizzle out.\\n\\nThanks for watching and sharing! Don't stab people. I'll see you later.\",\n",
       "     'title': 'how midwesterners call their dogs'},\n",
       "    'publishedAt': '2019-02-20T15:31:57.000Z',\n",
       "    'tags': ['how midwesterners call their dogs',\n",
       "     'gus',\n",
       "     'gustoonz',\n",
       "     'gus johnson',\n",
       "     'gus dogs',\n",
       "     'gus midwest',\n",
       "     'gus wisconsin',\n",
       "     'gus and eddy',\n",
       "     'caleb city',\n",
       "     'ian kung',\n",
       "     'sven johnson',\n",
       "     'eddy burback',\n",
       "     'sketch comedy',\n",
       "     'skit',\n",
       "     'short funny vi'],\n",
       "    'thumbnails': {'default': {'height': 90,\n",
       "      'url': 'https://i.ytimg.com/vi/F_ZFAMtFs1k/default.jpg',\n",
       "      'width': 120},\n",
       "     'high': {'height': 360,\n",
       "      'url': 'https://i.ytimg.com/vi/F_ZFAMtFs1k/hqdefault.jpg',\n",
       "      'width': 480},\n",
       "     'maxres': {'height': 720,\n",
       "      'url': 'https://i.ytimg.com/vi/F_ZFAMtFs1k/maxresdefault.jpg',\n",
       "      'width': 1280},\n",
       "     'medium': {'height': 180,\n",
       "      'url': 'https://i.ytimg.com/vi/F_ZFAMtFs1k/mqdefault.jpg',\n",
       "      'width': 320},\n",
       "     'standard': {'height': 480,\n",
       "      'url': 'https://i.ytimg.com/vi/F_ZFAMtFs1k/sddefault.jpg',\n",
       "      'width': 640}},\n",
       "    'title': 'how midwesterners call their dogs'},\n",
       "   'statistics': {'commentCount': '2935',\n",
       "    'dislikeCount': '745',\n",
       "    'favoriteCount': '0',\n",
       "    'likeCount': '61078',\n",
       "    'viewCount': '937636'},\n",
       "   'status': {'embeddable': True,\n",
       "    'license': 'youtube',\n",
       "    'privacyStatus': 'public',\n",
       "    'publicStatsViewable': False,\n",
       "    'uploadStatus': 'processed'}}],\n",
       " 'kind': 'youtube#videoListResponse',\n",
       " 'pageInfo': {'resultsPerPage': 1, 'totalResults': 1}}"
      ]
     },
     "execution_count": 41,
     "metadata": {},
     "output_type": "execute_result"
    }
   ],
   "source": [
    "get_video_metadata('F_ZFAMtFs1k')"
   ]
  },
  {
   "cell_type": "markdown",
   "metadata": {},
   "source": [
    "## **YouTube Analytics API**"
   ]
  },
  {
   "cell_type": "markdown",
   "metadata": {},
   "source": [
    "The YouTube Analytics API offers a more granular look at the video data as it contains information "
   ]
  },
  {
   "cell_type": "code",
   "execution_count": 28,
   "metadata": {},
   "outputs": [],
   "source": [
    "import argparse\n",
    "import google.oauth2.credentials\n",
    "import google_auth_oauthlib.flow\n",
    "from googleapiclient.discovery import build\n",
    "from googleapiclient.errors import HttpError\n",
    "from google_auth_oauthlib.flow import InstalledAppFlow"
   ]
  },
  {
   "cell_type": "code",
   "execution_count": 11,
   "metadata": {},
   "outputs": [],
   "source": [
    "CLIENT_SECRETS_FILE = '../api-keys/google/client_secret.json'\n",
    "SCOPES = ['https://www.googleapis.com/auth/yt-analytics-monetary.readonly']\n",
    "API_SERVICE_NAME = 'youtubereporting'\n",
    "API_VERSION = 'v1'"
   ]
  },
  {
   "cell_type": "code",
   "execution_count": 12,
   "metadata": {},
   "outputs": [],
   "source": [
    "def get_authenticated_service():\n",
    "    \n",
    "    flow = InstalledAppFlow.from_client_secrets_file(CLIENT_SECRETS_FILE, SCOPES)\n",
    "    credentials = flow.run_console()\n",
    "    \n",
    "    return build(API_SERVICE_NAME, API_VERSION, credentials = credentials)"
   ]
  },
  {
   "cell_type": "code",
   "execution_count": null,
   "metadata": {},
   "outputs": [],
   "source": [
    "requests.get('https://youtubeanalytics.googleapis.com/v2')"
   ]
  }
 ],
 "metadata": {
  "kernelspec": {
   "display_name": "Python 3",
   "language": "python",
   "name": "python3"
  },
  "language_info": {
   "codemirror_mode": {
    "name": "ipython",
    "version": 3
   },
   "file_extension": ".py",
   "mimetype": "text/x-python",
   "name": "python",
   "nbconvert_exporter": "python",
   "pygments_lexer": "ipython3",
   "version": "3.6.4"
  }
 },
 "nbformat": 4,
 "nbformat_minor": 2
}
