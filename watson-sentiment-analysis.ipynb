{
 "cells": [
  {
   "cell_type": "markdown",
   "metadata": {},
   "source": [
    "### **Obtain Sentiment Analysis of Articles**"
   ]
  },
  {
   "cell_type": "markdown",
   "metadata": {},
   "source": [
    "Using IBM Watson's Natural Language Understanding [API](https://cloud.ibm.com/apidocs/natural-language-understanding), the general sentiment of article content or of specific target phrases within article content is analyzed. The information returned consists of a sentiment score ranging from -1 (negative) to 1 (positive) & a polarity classification based on the score."
   ]
  },
  {
   "cell_type": "code",
   "execution_count": null,
   "metadata": {},
   "outputs": [],
   "source": [
    "import os\n",
    "import sys\n",
    "\n",
    "sys.path.append('./watson_developer_cloud/')"
   ]
  },
  {
   "cell_type": "code",
   "execution_count": null,
   "metadata": {},
   "outputs": [],
   "source": [
    "# from watson_developer_cloud import NaturalLanguageUnderstandingV1"
   ]
  },
  {
   "cell_type": "code",
   "execution_count": null,
   "metadata": {},
   "outputs": [],
   "source": [
    "os.getcwd()"
   ]
  },
  {
   "cell_type": "code",
   "execution_count": null,
   "metadata": {},
   "outputs": [],
   "source": [
    "from platform import python_version\n",
    "print(python_version())"
   ]
  },
  {
   "cell_type": "code",
   "execution_count": null,
   "metadata": {},
   "outputs": [],
   "source": [
    "# !pip install watson_developer_cloud\n",
    "# import watson_developer_cloud"
   ]
  },
  {
   "cell_type": "code",
   "execution_count": 5,
   "metadata": {
    "scrolled": true
   },
   "outputs": [],
   "source": [
    "import json\n",
    "import time\n",
    "import pandas as pd\n",
    "\n",
    "# from watson_developer_cloud import NaturalLanguageUnderstandingV1\n",
    "# from watson_developer_cloud.natural_language_understanding_v1 import Features, SentimentOptions"
   ]
  },
  {
   "cell_type": "code",
   "execution_count": null,
   "metadata": {},
   "outputs": [],
   "source": [
    "api_key = json.loads(open(\"../API/IBM_Cloud/api_key.txt\").read())['nat_lang']\n",
    "endpoint = 'https://gateway.watsonplatform.net/natural-language-understanding/api'"
   ]
  },
  {
   "cell_type": "code",
   "execution_count": 26,
   "metadata": {},
   "outputs": [
    {
     "data": {
      "text/plain": [
       "'/Users/lhe/Nielsen /Fellowship_Spring2019'"
      ]
     },
     "execution_count": 26,
     "metadata": {},
     "output_type": "execute_result"
    }
   ],
   "source": [
    "pwd"
   ]
  },
  {
   "cell_type": "code",
   "execution_count": 1,
   "metadata": {},
   "outputs": [],
   "source": [
    "from library.data_dict import *"
   ]
  },
  {
   "cell_type": "code",
   "execution_count": 16,
   "metadata": {},
   "outputs": [],
   "source": [
    "# comments['wzN0z3cKtYQ']"
   ]
  },
  {
   "cell_type": "code",
   "execution_count": 22,
   "metadata": {},
   "outputs": [],
   "source": [
    "# comments.decode('utf8','surrogateescape')\n",
    "# pd.DataFrame.from_dict(comments).transpose()"
   ]
  },
  {
   "cell_type": "code",
   "execution_count": 25,
   "metadata": {},
   "outputs": [
    {
     "data": {
      "text/plain": [
       "'\"library/data_dict.json\"'"
      ]
     },
     "execution_count": 25,
     "metadata": {},
     "output_type": "execute_result"
    }
   ],
   "source": [
    "json.dumps('library/data_dict.json')"
   ]
  },
  {
   "cell_type": "markdown",
   "metadata": {},
   "source": [
    "#### **1. Obtain Analysis from Watson API for list of URLs**"
   ]
  },
  {
   "cell_type": "markdown",
   "metadata": {},
   "source": [
    "##### **1a. Get Sentiment Analysis for Single URL**"
   ]
  },
  {
   "cell_type": "markdown",
   "metadata": {},
   "source": [
    "*If sentiment is able to be obtained, an analysis dictionary is returned.*"
   ]
  },
  {
   "cell_type": "code",
   "execution_count": null,
   "metadata": {},
   "outputs": [],
   "source": [
    "import json\n",
    "# from watson_developer_cloud import NaturalLanguageUnderstandingV1\n",
    "from watson_developer_cloud.natural_language_understanding_v1 import Features, RelationsOptions\n",
    "\n",
    "def obtain_sentiment_analysis_from_string(txt):\n",
    "    natural_language_understanding = NaturalLanguageUnderstandingV1( #to access api\n",
    "        version='2018-11-16',\n",
    "        iam_apikey= api_key,\n",
    "        url = endpoint\n",
    "    )\n",
    "\n",
    "    response = natural_language_understanding.analyze(\n",
    "        text= txt,\n",
    "        features=Features(relations=RelationsOptions())).get_result()\n",
    "\n",
    "    print(json.dumps(response, indent=2))"
   ]
  },
  {
   "cell_type": "code",
   "execution_count": null,
   "metadata": {},
   "outputs": [],
   "source": [
    "obtain_sentiment_analysis_from_string(\"Leonardo DiCaprio just won best actor!!\")"
   ]
  },
  {
   "cell_type": "code",
   "execution_count": null,
   "metadata": {},
   "outputs": [],
   "source": [
    "def obtain_sentiment_analysis_from_url(url, target_str=''):\n",
    "\n",
    "    '''\n",
    "    NOTE: If passing in target_str, input as list!\n",
    "    '''\n",
    "    \n",
    "    '''\n",
    "    This function can:\n",
    "    \n",
    "        1) Perform a document-level sentiment analysis, or,\n",
    "\n",
    "        2) Take in a keyword, target_str, and return the sentiment \n",
    "           for each target_str found in the document.\n",
    "    '''\n",
    "    \n",
    "    natural_language_understanding = NaturalLanguageUnderstandingV1(\n",
    "        version='2018-11-16',\n",
    "        iam_apikey=api_key,\n",
    "        url=endpoint\n",
    "    )\n",
    "    \n",
    "    try:\n",
    "        if target_str:\n",
    "            response = natural_language_understanding.analyze(\n",
    "                url=url,\n",
    "                features=Features(sentiment=SentimentOptions(targets = target_str))).get_result()\n",
    "\n",
    "            doc_level = response['sentiment']['document']\n",
    "            target_level = response['sentiment']['targets'][0]\n",
    "            source = response['retrieved_url'].split('/')[2]\n",
    "\n",
    "            response_dict = {\n",
    "                'source':source,\n",
    "                'target':target_str,\n",
    "                'url':url,\n",
    "                'article_sentiment_label':doc_level['label'],\n",
    "                'article_sentiment_score':doc_level['score'],\n",
    "                'target_sentiment_label':target_level['label'],\n",
    "                'target_sentiment_score':target_level['score']\n",
    "            }\n",
    "\n",
    "        else:\n",
    "            response = natural_language_understanding.analyze(\n",
    "                url=url,\n",
    "                features=Features(sentiment=SentimentOptions(document=True))).get_result()\n",
    "\n",
    "            doc_level = response['sentiment']['document']\n",
    "            source = response['retrieved_url'].split('/')[2]\n",
    "\n",
    "            response_dict = {\n",
    "                'source':source,\n",
    "                'url':url,\n",
    "                'article_sentiment_label':doc_level['label'],\n",
    "                'article_sentiment_score':doc_level['score']\n",
    "            }\n",
    "        return response_dict\n",
    "\n",
    "    except:\n",
    "        return None"
   ]
  },
  {
   "cell_type": "markdown",
   "metadata": {},
   "source": [
    "##### **1b. Apply *obtain_sentiment_analysis* to all URLs**"
   ]
  },
  {
   "cell_type": "code",
   "execution_count": null,
   "metadata": {},
   "outputs": [],
   "source": [
    "df_path = '../../Downloads/readability_headlines_test_20190204.csv'\n",
    "df = pd.read_csv(df_path)"
   ]
  },
  {
   "cell_type": "code",
   "execution_count": null,
   "metadata": {},
   "outputs": [],
   "source": [
    "def retrieve_analysis_df(df):\n",
    "\n",
    "    analysis = pd.DataFrame()\n",
    "\n",
    "    analysis['url'] = df['url'][0:250]\n",
    "    analysis['headline'] = df['title'][0:250]\n",
    "    analysis['sentiment_analysis'] = df['url'][0:250]\\\n",
    "                .apply(obtain_sentiment_analysis)\n",
    "\n",
    "    return analysis\n",
    "\n",
    "analysis = retrieve_analysis_df(df)"
   ]
  },
  {
   "cell_type": "markdown",
   "metadata": {},
   "source": [
    "##### **1c. Format df (analysis) to convert each sentiment analysis dictionary row to df**"
   ]
  },
  {
   "cell_type": "code",
   "execution_count": null,
   "metadata": {},
   "outputs": [],
   "source": [
    "def get_final_df(analysis):\n",
    "    \n",
    "    analysis = analysis.dropna()\n",
    "    valid_sentiment_analysis = [i for i in list(temp['sentiment_analysis']) \n",
    "                                if type(i)==dict]\n",
    "    \n",
    "    return pd.DataFrame(valid_sentiment_analysis)\n",
    "\n",
    "final_analysis = get_final_df(analysis)"
   ]
  },
  {
   "cell_type": "code",
   "execution_count": null,
   "metadata": {},
   "outputs": [],
   "source": [
    "final_analysis"
   ]
  }
 ],
 "metadata": {
  "kernelspec": {
   "display_name": "Python 3",
   "language": "python",
   "name": "python3"
  },
  "language_info": {
   "codemirror_mode": {
    "name": "ipython",
    "version": 3
   },
   "file_extension": ".py",
   "mimetype": "text/x-python",
   "name": "python",
   "nbconvert_exporter": "python",
   "pygments_lexer": "ipython3",
   "version": "3.7.1"
  }
 },
 "nbformat": 4,
 "nbformat_minor": 2
}
